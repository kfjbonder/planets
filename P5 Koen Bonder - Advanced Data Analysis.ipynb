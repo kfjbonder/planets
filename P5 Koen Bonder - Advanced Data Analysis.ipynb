{
 "cells": [
  {
   "cell_type": "markdown",
   "metadata": {},
   "source": [
    "# Koen Bonder - P5 Advanced Data Analysis"
   ]
  },
  {
   "cell_type": "markdown",
   "metadata": {},
   "source": [
    "### P5A Abstract\n",
    "\n",
    "'Netherlands institute for space research' is a part of the 'Nederlandse organisatie voor wetenschappelijk\n",
    "onderzoek' and is the Dutch institute for space research. Its mission is to design and develop\n",
    "world-class innovative space instruments for astrophysical and earth-oriented research and to analyse\n",
    "the data provided by these instruments for advanced research.\n",
    "The goal of this project was : Can we characterise a low-power SIS-mixer and accurately control\n",
    "a SQUID using two SIS-devices?\n",
    "\n",
    "The global goal beyond this project is to develop a system with very low noise and low dissipation,\n",
    "that can read-out large arrays (several thousands or more) of transition edge sensors (TES) that operate\n",
    "at cryogenic temperatures. A TES is a very sensitive and delicate sensor that can detect a wide\n",
    "energy range of photons from the infrared to the X-ray spectrum. The signals from the TES need to\n",
    "be ampli_ed with a low noise ampli_er. This can be achieved using a superconductive quantum interference\n",
    "device (SQUID). A SQUID can detect very small changes in an applied magnetic _eld, induced\n",
    "by current changes in the TES. Thermal and electromagnetic interference (EMI) problems arise when\n",
    "thousands of TES sensors and SQUID ampli_ers would require separate wiring from room temperature\n",
    "(300K) to the cryogenic detectors. Hence a method is proposed to use frequency multiplexing\n",
    "for read-out of the TESes. This would only require a few coaxial cables for the readout of thousands\n",
    "of pixels. The frequency multiplexing scheme uses several GHz frequency carriers in which all the\n",
    "side-bands at MHz frequencies contain information about the state of the TES. The main element for\n",
    "the multiplexing units is a superconductive-insulator superconductive- junction (SIS-junction). It is\n",
    "a small device with a very non-linear IV-curve and it is used as a frequency mixer and like a recti_er\n",
    "diode (RF to DC converter).\n",
    "\n",
    "In this project three main subjects were addressed. Firstly, an SIS-junction down mixer was\n",
    "characterised for down-converting two signals at approximately 5 GHz to 5 MHz. We found that the\n",
    "mixer has linear range of about 55 dB while being biased with a 40 dBm local oscillator (LO). In\n",
    "this linear range the conversion loss was 35 dB  +/- 1 dB.\n",
    "Secondly, a SQUID or its feedback coil, was biased by pumping an SIS-junction. We have managed\n",
    "to bias the SQUID while controlling the feedback coil with an XXF-1 SQUID ampli_er. When the\n",
    "current through the feedback coil was set to a saw wave a voltage modulation over the SQUID was\n",
    "clearly seen. It was also achieved to bias the feedback coil using an SIS-junction while the SQUID\n",
    "was operated by the XXF-1. With this set-up, the system could hold a stable flux locked loop (FLL) mode.\n",
    "It was not achieved to have the SQUID and the feedback coil by two SIS-junctions at the same time.\n",
    "Three follow-up experiments with small sections of the circuitry that behaved as expected. The initial\n",
    "problem could be an fatal error in the wiring that remained unseen or perhaps the design was wrong\n",
    "by default.\n",
    "    \n",
    "Lastly a literature review was conducted to make improvements on the SIS-mixer. It was\n",
    "found that for mixer that use SIS-junctions the design needs to be simple. Many mixing ring circuits\n",
    "tends to lead to problem with the biasing of the SIS-junction. It was simulated that with the addition\n",
    "to the current design of two microstrip stubs the conversion loss can be improved. Simulated results\n",
    "show a conversion loss that dropped from roughly 70 dB to 30 dB while the 1rst harmonic is 30 dBlower.\n",
    "\n",
    "To conclude this project we will reflect on the goal of this project. The SIS-junction down mixer was\n",
    "successfully characterised and some additions have been proposed for further improvement. Biasing\n",
    "a SQUID and its feedback coil was more troublesome and not fully achieved. But we did manage to\n",
    "characterise sub-circuits successfully."
   ]
  },
  {
   "cell_type": "markdown",
   "metadata": {},
   "source": [
    "Durrant-Whyte classifies a multi-sensor data fusion system according to its sensor configuration.\n",
    "These are complementary, competitive and cooperative.\n",
    " For my thesis project I have mainly used complementary and cooperative since each sensor measured.\n",
    "Complementary sensors measured signal information of the input and output of a DUT.   \n",
    "So they are measuring one signal but transformed in amplitude, phase and possibly added noise.\n",
    "An example of cooperative sensors were voltage sources that had a big voltage drop over the wires.\n",
    "Using a fusion of voltage and an ampere meter the voltage reading could be accurately controlled.\n",
    "    \n"
   ]
  },
  {
   "cell_type": "markdown",
   "metadata": {},
   "source": [
    "Boudjemaa and Forbes\n",
    "Boudjemaa and Forbes describe four categories of sensor fusion.\n",
    "Fusion across sensors, attributes, domains and time.\n",
    "During my bachelor project I have used domain sensors and domains. The sensors would be the different kind of voltage, current and power meters and the domains would be the different ranges of frequencies.\n",
    "The attributes and time were not really present. Since there was not a higher level of data fusion I would not call the data an attribute. And because the measurements were almost instantaneous there wasn’t really time fusion. \n"
   ]
  },
  {
   "cell_type": "markdown",
   "metadata": {},
   "source": [
    "Dasarathy distinguishes between three categories and six combination of those. Data, features and decisions. \n",
    "My systems can be best described using features in and features out. The input of my systems were RF signals of a certain power range and certain frequency range. Those are two attributes of an electric signal that I would call features.\n",
    "Then the output where RF signals where I measured their amplitude, frequency and noise level. \n",
    "I suppose it can be debated whether these are features or data. But since I only adjust two parameters and a lot of processes are happening I think it is safe to call them features.\n"
   ]
  },
  {
   "cell_type": "markdown",
   "metadata": {},
   "source": [
    "### P5B - Nobel Prize system"
   ]
  },
  {
   "cell_type": "markdown",
   "metadata": {},
   "source": [
    "### JDL\n",
    "\n",
    "This year’s Nobel prize in Physics went to three physicists that had a major role in developing a technique to measure gravitational waves (GW).\n",
    "\n",
    "By having two orthogonal laser beams that travel a few kilometres before creating an interference pattern when they recombine. This interference can show that a difference spacetime stretching has occurred in the beams. The signal comes out a photo diode and is pattern matched with previous modelled signals. Currently there are two important gravitational wave observatories namely Ligo and Virgo\n",
    "The JDL model categorises by aggregation level going from low level input to high level human cognition. \n",
    "\n",
    "The lowest level is called the subobject refinement where low level functionality is described. At Ligo that is probably measuring the current and doing some low level filtering to remove noise and remove frequencies outside their band of interest. Maybe even correct for power and frequency fluctuations of the laser itself.\n",
    "These operations are done even before the data is even stored.\n",
    "\n",
    "Next is the object refinement layer. Maybe over here can estimates be made how likely it is that a GW has passed through. If there’s just normal background noise with no chirps or clear signals it can be disregarded immediately.\n",
    "\n",
    "After is the situation refinement. The description contains terms like ‘event detection’ and ‘interpretation’. This is where the pattern-matching takes place. \n",
    "\n",
    "Then needs to be decided what level of pattern-matching is needed to conclude that a gravitational wave is measured and if both patterns are spotted at two locations. This can be done at the impact assessment level. \n",
    "\n",
    "The last two layers are a bit too high level for this application since all the data processing is completed. Now the scientists just need to write a paper.\n",
    "\n"
   ]
  },
  {
   "cell_type": "markdown",
   "metadata": {},
   "source": [
    "## Dasarathy\n",
    "\n",
    "From the perspective of Dasarathy I would consider a system like Ligo and Virgo to be 'data in, features out'. \n",
    "The input is a photon causing a tiny current in a photo diode, which is amount of photons per time interval or just current.\n",
    "The output is giving estimates of the properties of black hole merger which are features."
   ]
  },
  {
   "cell_type": "code",
   "execution_count": null,
   "metadata": {},
   "outputs": [],
   "source": []
  }
 ],
 "metadata": {
  "kernelspec": {
   "display_name": "Python 2",
   "language": "python",
   "name": "python2"
  },
  "language_info": {
   "codemirror_mode": {
    "name": "ipython",
    "version": 2
   },
   "file_extension": ".py",
   "mimetype": "text/x-python",
   "name": "python",
   "nbconvert_exporter": "python",
   "pygments_lexer": "ipython2",
   "version": "2.7.13"
  }
 },
 "nbformat": 4,
 "nbformat_minor": 2
}
